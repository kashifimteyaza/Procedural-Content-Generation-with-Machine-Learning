{
  "nbformat": 4,
  "nbformat_minor": 0,
  "metadata": {
    "colab": {
      "provenance": []
    },
    "kernelspec": {
      "name": "python3",
      "display_name": "Python 3"
    },
    "language_info": {
      "name": "python"
    }
  },
  "cells": [
    {
      "cell_type": "markdown",
      "source": [
        "# **Introduction**\n",
        "\n",
        "This project involves the creation and evaluation of a procedural content generation approach designed to generate levels for a 2D, tile-based puzzle game, Rush Hour. The project leverages N-gram Markov Chain models to learn from existing level designs and generate new, playable levels that maintain the characteristics of the training dataset. This approach aims to automate the level design process, ensuring a continuous supply of fresh and engaging content for players.\n"
      ],
      "metadata": {
        "id": "IzJoYNmkGE3L"
      }
    },
    {
      "cell_type": "markdown",
      "source": [
        "# **Context**\n",
        "\n",
        "N-gram Markov Chains have been widely used in text generation and have seen applications in various content generation contexts, including level design for games, behavioral modeling to understand news consumption patterns, and creating industrial simulation in the fabrication sector [Vermeer, S., et al. (2020) Mubarak, A. A., et al. (2018)] . Similar approaches have been applied in music generation based on user mood [Ramanto, A. S., et al. (2017).] . Recent work has utilized the Markov chain for creative ideation where a comparison was done with GPT-generated and Markov chain-generated content. In this work, I explore using Markov models for the procedural generation of puzzle game content, specifically for Rush Hour. This work is a replication of prior work using Markov chains for modeling and generating playable content across multiple game genres . The goal is to demonstrate the viability of Markov models for automating the creation of novel and solvable Rush Hour levels without hand-authored content or puzzles.\n"
      ],
      "metadata": {
        "id": "tCFzN0ToGSK0"
      }
    },
    {
      "cell_type": "markdown",
      "source": [
        "# The training data consisted of levels from the 2D, tile-based puzzle game Rush Hour. Each level was encoded as a string, with characters representing different tiles and game elements:\n",
        "*\n",
        "\n",
        "*   'o' for empty grid cells\n",
        "*   'x' for wall tiles\n",
        "*   'A' for the primary red car\n",
        "*   'B' - 'Z' for other vehicle tiles\n",
        "\n",
        "\n",
        "\n",
        "\n",
        "To preprocess the data, each level string was converted into a 6x6 2D array representing the puzzle grid. Each sublist in the 2D array corresponds to one row in the grid.\n",
        "\n",
        "\n",
        "\n"
      ],
      "metadata": {
        "id": "BxTGCNNCHs5h"
      }
    },
    {
      "cell_type": "markdown",
      "source": [],
      "metadata": {
        "id": "JFhhNKH2IAgD"
      }
    },
    {
      "cell_type": "code",
      "execution_count": null,
      "metadata": {
        "colab": {
          "base_uri": "https://localhost:8080/",
          "height": 499
        },
        "id": "BdKM5J9Tqe6X",
        "outputId": "00b4b7f8-728f-40f7-ce40-323d843601c7"
      },
      "outputs": [
        {
          "output_type": "display_data",
          "data": {
            "text/plain": [
              "<Figure size 1000x600 with 1 Axes>"
            ],
            "image/png": "[encoded data removed]"
          },
          "metadata": {}
        }
      ],
      "source": [
        "import numpy as np\n",
        "import matplotlib.pyplot as plt\n",
        "\n",
        "# Initialize the level string\n",
        "level_string = \"EEEJoHCGoCCCCKLooooooooIDFGDDDIAAJDD\"\n",
        "\n",
        "# Define RGB colors for each tile type\n",
        "\n",
        "tile_to_rgb = {\n",
        "    \"E\": (1, 1, 1),    # White (Empty space)\n",
        "    \"o\": (0.5, 0.5, 0.5), # Grey (Generic obstacle)\n",
        "    \"A\": (1, 0, 0),    # Red (Player character or special item)\n",
        "    \"J\": (0, 1, 1),    # Cyan (Changed color for 'J')\n",
        "    \"x\": (0.5, 0, 0),  # Maroon (New color for 'x')\n",
        "    \"I\": (0, 0, 1),    # Blue (Enemy or hazard)\n",
        "    \"F\": (0, 1, 0),    # Green (Collectible or goal)\n",
        "    \"G\": (1, 1, 0),    # Yellow (Power-up)\n",
        "    \"C\": (0.6, 0.4, 0.2), # Brown (Platform or ground)\n",
        "    \"D\": (0, 0, 0),    # Black (Pit or lethal hazard)\n",
        "    \"M\": (0.5, 0, 0.5), # Purple (Movable object)\n",
        "    \"K\": (1, 0.5, 0),  # Orange (Added color for 'K')\n",
        "    # Default color for any undefined tiles\n",
        "    \"default\": (1, 0.75, 0.8) # Pinkish as default\n",
        "}\n",
        "\n",
        "\n",
        "# Convert the level string into a 2D array of RGB values\n",
        "level_height = 6  # Assuming the level is 6 tiles high based on the example provided\n",
        "level_width = len(level_string) // level_height\n",
        "level_array_rgb = np.array([tile_to_rgb.get(tile, tile_to_rgb[\"default\"]) for tile in level_string]).reshape(level_height, level_width, 3)\n",
        "\n",
        "# Create a figure showing the level\n",
        "plt.figure(figsize=(10, 6))  # Adjust the figure size as needed\n",
        "plt.imshow(level_array_rgb)\n",
        "plt.axis('off')  # Hide the axes\n",
        "plt.show()\n"
      ]
    },
    {
      "cell_type": "code",
      "source": [],
      "metadata": {
        "id": "3BEez-641K7y"
      },
      "execution_count": null,
      "outputs": []
    },
    {
      "cell_type": "markdown",
      "source": [
        "# Model Training\n",
        "\n",
        "To capture sequential dependencies between tiles, n-gram features were extracted from the preprocessed 2D grid data. A 3rd order Markov model (n=3) was chosen to model the probability of a tile type given the previous 3 tile types.\n",
        "\n",
        "The training process involved:\n",
        "\n",
        "1.   Sliding a 3-tile window across each row of each level grid to extract all possible 3-gram sequences of tile types.\n",
        "2.   Counting the occurrences of each unique 3-gram sequence.\n",
        "1.   Calculating the conditional probabilities of a tile type appearing after each possible 3-gram. For example, if \"wall, empty, car\" appears 10 times, and in 8 of those cases the next tile is \"empty\", the probability would be P(\"empty\" | \"wall, empty, car\") = 8/10.\n",
        "2.   These conditional probabilities were stored in a transition probability matrix. Each row represents a given 3-gram context, each column a possible next tile type, and the matrix values are the probabilities.\n",
        "\n",
        "1. At test time, the model can generate a new level by sampling from the transition probability distribution for a given 3-gram context. This Markov approach aims to learn the tile patterns and sequences that appear within Rush Hour puzzle configurations.  \n",
        "\n",
        "\n",
        "\n",
        "\n",
        "\n",
        "\n",
        "\n",
        "\n",
        "\n",
        "\n",
        "\n"
      ],
      "metadata": {
        "id": "SZoVnLyCIKjB"
      }
    },
    {
      "cell_type": "markdown",
      "source": [
        "# Content Generated\n",
        "To generate new puzzle levels, the trained 3rd-order Markov model was seeded with an initial 2-tile sequence and used to probabilistically predict subsequent tiles.  An initial tile bigram (sequence of 2 tiles) was manually specified as the starting seed. The model looked up the transition probability distribution for that 2-gram context. The next tile was sampled from that probability distribution. This new 3-gram was then fed back into the model to predict the following tile. This iterative process of sampling and feeding back the updated context was repeated until a sequence of the desired length was generated.\n",
        "\n",
        "Apart from using different training examples, controlling the generator can involve adjusting the initial conditions, modifying the N-gram size, or applying post-generation checks to ensure the levels meet certain criteria (e.g., solvability, and complexity).  \n"
      ],
      "metadata": {
        "id": "p4uKIZ5sJnyq"
      }
    },
    {
      "cell_type": "code",
      "source": [
        "from collections import Counter\n",
        "\n",
        "def load_levels(file_path):\n",
        "    with open(file_path, 'r') as file:\n",
        "        levels = [line.strip() for line in file.readlines()]\n",
        "    return levels\n",
        "\n",
        "# Load levels from a text file\n",
        "file_path = \"/content/generated_rush_hour_puzzles.txt\"  # Replace this with the actual file path\n",
        "levels = load_levels(file_path)\n",
        "\n",
        "# Print out the loaded levels\n",
        "print(\"Loaded levels:\")\n",
        "for level in levels:\n",
        "    print(level)\n",
        "\n",
        "# Count the variety and frequency of different tiles (excluding 'E' for empty spaces)\n",
        "tile_counter = Counter()\n",
        "for level in levels:\n",
        "    # Update the counter with tiles from the current level, ignoring 'E'\n",
        "    tile_counter.update([tile for tile in level if tile != 'E'])\n",
        "\n",
        "# Output the results\n",
        "print(\"\\nTile frequency across all levels:\")\n",
        "for tile, count in tile_counter.items():\n",
        "    print(f\"{tile}: {count}\")\n",
        "\n",
        "print(f\"\\nUnique tile types: {len(tile_counter.keys())}\")\n",
        "print(f\"Total non-empty tiles across all levels: {sum(tile_counter.values())}\")\n"
      ],
      "metadata": {
        "colab": {
          "base_uri": "https://localhost:8080/"
        },
        "id": "-kCA8GiBMbzs",
        "outputId": "505f93b5-5997-4934-97d2-b1451dca0997"
      },
      "execution_count": null,
      "outputs": [
        {
          "output_type": "stream",
          "name": "stdout",
          "text": [
            "Loaded levels:\n",
            "ooxCCCoJDDoKooGCCKFooooxoIEEMFFoJooI\n",
            "oooHIIoLMHGGooIDDKMFFFGGKoAAJooJooGB\n",
            "oooNIoLooJoFFxHoooAAoJKooAAKLGCCGAAo\n",
            "oooIAAHIooIFFMJEEIooOIIoKoMGHIoJKLAA\n",
            "ooIBBCCCJLMGGGGoHIAAMHoJoCCoKLAAGJoL\n",
            "ooHHIEExoooKFFGoIJLMHFFMxHIAAKDDEEEo\n",
            "ooKDDKoLooLMEELMoHDDoKoooJFFLGDDGEEF\n",
            "oooxxIIIoooHBBKoxKoNIooooICCMoIJooIo\n",
            "ooJAAMoOIJLMHAAGHHKIIxLoNIoKAAIoJoCC\n",
            "ooJEEJLNoCCCoJAAoKoGGGKoxDDoLHCCxAAK\n",
            "ooxJoooIKDDDEEoooKEEELHDDoKooJKLNDDK\n",
            "ooooJoLJJJooLoNEEoFFOxIIIoJFFJooIoox\n",
            "ooIoLDDMHoooGGoHooMNxHIIIoAAoHFFIooo\n",
            "ooKEEIoJoFFKMoDDLGDDLooLoooooNKAAMIo\n",
            "oooooAAJoKLMEEKooIJoLoMGGGGHoIEEKLMN\n",
            "ooIJoLNooFFxoLAAJKoLGAAKoMDDMHoJEELM\n",
            "ooHBBGooAAIJKEEELFFoKCCLMNIGGHFFGGxI\n",
            "oooooGoHBBBBHIKFGGoJoxxKoooKooIoLGGH\n",
            "ooxDDGEEoAAJKoMNooJooKDDKLooooHEEoIJ\n",
            "ooKLDDJLGGGGJoLMooIEELFFNIJLMDDoEEEL\n",
            "oooKCCLNEEFFoLFFFoGGMoNKIILJJOoKLMGG\n",
            "oooIGGoLGGGJKoNGGoIKMooNooxHHIIOKxFF\n",
            "ooLAAKooMHAAKoLMAAKooxGGLMoooHoJLoNx\n",
            "ooIDDoLGoMooIBBKCCGDDoJoAAIoJDDooFFJ\n",
            "ooHDDKMFHGGKooHEEoooMJFFoHAANKoAAoLN\n",
            "ooHIoLMFFFFFKoMGIooNGDDKoooooooJKFoK\n",
            "ooooJKMFFKGoHEEKooKLGoIxoNGGoJKCCoHJ\n",
            "ooxGGMJFFFFHIoooxMNoooMHoJooooMAAKoF\n",
            "oooJooooooHDDoLAAoLoAANDDLGoOoEEMNoJ\n",
            "ooNxGGoHCCooIBBoJCCHDDoIAAIJLMNooICC\n",
            "ooKFFHoIHHIDDJoxoHoJLxGHBBBxoxIJEEoo\n",
            "ooGGGGJoMooJoGHHMoIJoKBBKCCIJEEoLIEE\n",
            "ooCCIooooIKoooGGKoLMFHGGHJDDIKGGHHIK\n",
            "ooIoKooHIAALoNooooxFFJGGGoAALoooJooo\n",
            "ooJxLooJoGGoKMCCHIoKooIKLAANCCLIoLxH\n",
            "oooLoMAAMooHoJLoFFIJLMIAAKLooJEEMooH\n",
            "ooJAALoMooooIDDIKDDKooKAAHooMooGGMNo\n",
            "ooMoxEEKFFooGGHHIAAMoIoKFFFJoKoMJEEK\n",
            "ooJFFoMooKLooIJoxDDHEEJKoMJAALGDDLxD\n",
            "ooKLoGooIFFooOIKoMooNKFFGGoxJooxoLoM\n",
            "ooGGJxCCoxoooJoKooooGGoHDDEEEoLooxxo\n",
            "ooKMNGGLoIEENIGGNIFFLMCCoIJoLoEEIFFK\n",
            "ooNxoJFFLoNIooHBBHCCMoIAAJLMDDoKEEoA\n",
            "oooGCCIJEEMFoHoooKLFFoJEEoIJoLMHIKoo\n",
            "ooxoHEEEJooxIFFFGGGGKoxHHMoooIEEFFoo\n",
            "ooxoCCMDDLMxHGGJooIDDoJEENAAJoLMAANG\n",
            "ooKDDooLAAKoLEEKoxKoMIAAIJoLGoxNFGoo\n",
            "ooJBBoxIoKLoEEELNooxoKDDJKooHHoJEEKL\n",
            "oooMNoooIJLGGNKFFxoGGHHIoooLooooIJEE\n",
            "ooIDDAAoJoooIBBCCCDDMHHIDDKoGHJKLCCo\n",
            "oooJLoNJAAKooHoJFFoGGoHEEoFoIIIIJoKB\n",
            "oooIAALMNHCCoJoooNJHHHooooKEEHFFGGoA\n",
            "oooLIoAAoIDDMoIoKxNFFooHICCoDDKHoJEE\n",
            "ooJGCCIJEEoJoMIoooFEExoHxJGGoBBKooJD\n",
            "oooKCCLIIJoLIIMNHAAMJoooIDDKooJHHooK\n",
            "ooFAAIJLMoxooKooKLooHHIINxHHIKEExooJ\n",
            "ooMxHooKEEMoAAoHCCIooMoGEEoLoEENFFoB\n",
            "ooFFIGGKoMEEoLDDDoKHHoCCoxDDxOJKLHox\n",
            "oooxHooJGGoIoKLGGoBBHCCoHEEFFoHoIJEE\n",
            "ooHGGMJooLxIIIIIJEEoooHFFGGoooxJCCIJ\n",
            "oooxDDFGGHHoIKoDDGEEEFFLoEEMooJGGHoo\n",
            "ooIooooxxIIxoJAAoHBBBBoKGGNoCCIoGooJ\n",
            "oooLoMoHoIDDJoooooHCCCMooLoMAALCCJLM\n",
            "oooMDDKoEEKFFIKMooCCIoJAALoEEoKxNGDD\n",
            "ooIFFoxoooLEEHJoKEEFFFLoHoIAAMooJoCC\n",
            "ooAAKooLooHFFoGGooMJEEFFoIoKGGoIDDMo\n",
            "ooooJLNoooIFFFxHHKIIIOKJJOxHIEEEEJKo\n",
            "ooooKHEEKLGoHEEEFFIKMDDoKFFMHDDKoMGG\n",
            "ooIJEEAALoooooIFFLMIooxIFFGGHHHHxoHo\n",
            "ooEEEJoLMHAAoKxNFFFHDDoIAAHIooJAAIoo\n",
            "ooHIoCCIooKooJLoNxGGKoMIFFoKAAKLFFIG\n",
            "ooKGGHHoooLDDKoGBBBxDDIoKEEHJoKooKFF\n",
            "oooAANoooxHHoJKoMFFFLooIBBKLMxHHLooI\n",
            "oooHBBoLEEHFFLoNxAAMoHIIJEEMooNoJFFG\n",
            "oooMHoIKLMNEEoFGGoBBLoMEExIDDEEIFFGG\n",
            "ooLHAAKHoJFFMNooxHHoIFFKoFFGGGLoAAJo\n",
            "ooKLoMIEEFFKoMEELFFooooLMHoKBBIxEELF\n",
            "oooIBBLooIEELFFoooLoMxIoxDDooLoNGooo\n",
            "oooMAAIKLoooHEEOFFFFFJoMxEExGGLMNAAK\n",
            "ooHIIoKoMJoLEEEMxJCCDDNIDDDKooHIoJoo\n",
            "ooooKCCLMNHHHIKoLHHHHHooLHoJKoNGoLIo\n",
            "oooGHHoIKLMHooJooKoLIIoJDDoLooooJEEF\n",
            "ooJFFooMooGGoJEENooEEMoOHHoBBoKIIOKJ\n",
            "ooGoHEEKFFKMoIoKoMHoIAAKooFFoGDDKoLE\n",
            "ooIKLMEEELAAMNoCCIoooJCCIDDEEFFIoJCC\n",
            "ooIGGHHICCJoooJEEMoooKLoGGoHIoJKEEKF\n",
            "ooKEEEoLoHBBJoooOIJEEKoMoNEEMFFoIAAo\n",
            "ooKEEKGGLxoEEAALoICCNIooNGFFoxEEEKFF\n",
            "ooJoAAoJBBoxoLGHHoNGGGoKoGGoHAAJKoNG\n",
            "ooooKFFLMHHHJooooxKooJAAMJoKoNxoHooM\n",
            "ooJooKEEooLNooxooMHDDMoEEoFFLoMoDDJo\n",
            "oooLFDDEELooooJKoNHHoIFFGGNHHLooGHHI\n",
            "oooooLFFoKLGoNooNIJoooLoMFDDKEENIIIo\n",
            "ooooHIoKFFoHEEEoBBCCMAALoooKGGoHIIII\n",
            "ooNxooKLDDIAAMNIGGooFFooHIKLMNGGGNoI\n",
            "ooLFFLGoIDDNAAMDDNIJoooNHHIILJJKLDDo\n",
            "ooxHHIKLAANoooIFFGoIoJGGGHHoMIooHGGo\n",
            "ooIKDDDAALoHDDNIIIoKDDKooEEEFFJGGGoH\n",
            "ooxGGxIDDJoMoooIJEEoFFIKLEEIJoooJCCK\n",
            "oooHIoLHoKDDKMHDDGEEMoIEEJooGoJFFIGG\n",
            "\n",
            "Tile frequency across all levels:\n",
            "o: 1075\n",
            "x: 102\n",
            "C: 105\n",
            "J: 189\n",
            "D: 162\n",
            "K: 207\n",
            "G: 220\n",
            "F: 213\n",
            "I: 248\n",
            "M: 147\n",
            "H: 203\n",
            "L: 180\n",
            "A: 162\n",
            "B: 57\n",
            "N: 87\n",
            "O: 14\n",
            "\n",
            "Unique tile types: 16\n",
            "Total non-empty tiles across all levels: 3371\n"
          ]
        }
      ]
    },
    {
      "cell_type": "markdown",
      "source": [
        "# Evaluation\n",
        "The generated levels were evaluated based on their expressive range only. The expressive range was quantified by analyzing the diversity and frequency of tile types across the generated levels. A quantitative analysis of the expressive range showed a significant variety of tile types, indicating a broad spectrum of level designs (Figure 2). 16 unique tiles were generated and there were a total of 3371 non-empty tiles across 100 levels.   \n"
      ],
      "metadata": {
        "id": "KT9pf2kDJxGd"
      }
    },
    {
      "cell_type": "markdown",
      "source": [],
      "metadata": {
        "id": "uT5hsmEGGDg1"
      }
    },
    {
      "cell_type": "code",
      "source": [
        "import matplotlib.pyplot as plt\n",
        "\n",
        "# Provided data\n",
        "tile_data = {\n",
        "    'o': 1075,\n",
        "    'x': 102,\n",
        "    'C': 105,\n",
        "    'J': 189,\n",
        "    'D': 162,\n",
        "    'K': 207,\n",
        "    'G': 220,\n",
        "    'F': 213,\n",
        "    'I': 248,\n",
        "    'M': 147,\n",
        "    'H': 203,\n",
        "    'L': 180,\n",
        "    'A': 162,\n",
        "    'B': 57,\n",
        "    'N': 87,\n",
        "    'O': 14\n",
        "}\n",
        "\n",
        "# Extracting tile types and their frequencies\n",
        "tiles = list(tile_data.keys())\n",
        "frequencies = list(tile_data.values())\n",
        "\n",
        "# Define brighter colors for each bar\n",
        "colors = ['#FF5733', '#FFFF00', '#33FF33', '#33FFEC', '#33A1FF', '#8533FF', '#DB33FF', '#FF3333',\n",
        "          '#FF5733', '#FFC300', '#FF85E1', '#6CFF33', '#33FFEC', '#338AFF', '#DB33FF', '#FF3333']\n",
        "\n",
        "# Creating the bar chart with custom colors\n",
        "plt.figure(figsize=(10, 6))\n",
        "bars = plt.bar(tiles, frequencies, color=colors)\n",
        "\n",
        "# Adding labels and title\n",
        "plt.xlabel('Tile Types', fontsize=12, fontweight='bold')\n",
        "plt.ylabel('Frequency', fontsize=12, fontweight='bold')\n",
        "plt.title('Tile Frequency Across All Levels', fontsize=14, fontweight='bold')\n",
        "\n",
        "# Rotating x-axis labels for better visibility\n",
        "plt.xticks(rotation=45)\n",
        "\n",
        "# Bolden the tick labels\n",
        "plt.xticks(fontweight='bold')\n",
        "plt.yticks(fontweight='bold')\n",
        "\n",
        "# Adding grid for better readability\n",
        "plt.grid(axis='y')\n",
        "\n",
        "# Displaying the plot\n",
        "plt.tight_layout()\n",
        "plt.show()\n"
      ],
      "metadata": {
        "colab": {
          "base_uri": "https://localhost:8080/",
          "height": 607
        },
        "id": "31Kiew8oMkd_",
        "outputId": "c276d028-8453-4e87-abae-7456d7c258fd"
      },
      "execution_count": null,
      "outputs": [
        {
          "output_type": "display_data",
          "data": {
            "text/plain": [
              "<Figure size 1000x600 with 1 Axes>"
            ],
            "image/png": "[encoded data removed]"
          },
          "metadata": {}
        }
      ]
    },
    {
      "cell_type": "markdown",
      "source": [
        "# Generated Content Examples"
      ],
      "metadata": {
        "id": "dxg9st4LJ7T4"
      }
    },
    {
      "cell_type": "code",
      "source": [
        "import numpy as np\n",
        "import matplotlib.pyplot as plt\n",
        "\n",
        "# Initialize the level string\n",
        "level_string = \"xxxxxxxxxxoFooEEFFKLoGGoIooJKAAoJKFo\"\n",
        "\n",
        "# Define RGB colors for each tile type\n",
        "\n",
        "tile_to_rgb = {\n",
        "    \"E\": (1, 1, 1),    # White (Empty space)\n",
        "    \"o\": (0.5, 0.5, 0.5), # Grey (Generic obstacle)\n",
        "    \"A\": (1, 0, 0),    # Red (Player character or special item)\n",
        "    \"J\": (0, 1, 1),    # Cyan (Changed color for 'J')\n",
        "    \"x\": (0.5, 0, 0),  # Maroon (New color for 'x')\n",
        "    \"I\": (0, 0, 1),    # Blue (Enemy or hazard)\n",
        "    \"F\": (0, 1, 0),    # Green (Collectible or goal)\n",
        "    \"G\": (1, 1, 0),    # Yellow (Power-up)\n",
        "    \"C\": (0.6, 0.4, 0.2), # Brown (Platform or ground)\n",
        "    \"D\": (0, 0, 0),    # Black (Pit or lethal hazard)\n",
        "    \"M\": (0.5, 0, 0.5), # Purple (Movable object)\n",
        "    \"K\": (1, 0.5, 0),  # Orange (Added color for 'K')\n",
        "    # Default color for any undefined tiles\n",
        "    \"default\": (1, 0.75, 0.8) # Pinkish as default\n",
        "}\n",
        "\n",
        "\n",
        "# Convert the level string into a 2D array of RGB values\n",
        "level_height = 6  # Assuming the level is 6 tiles high based on the example provided\n",
        "level_width = len(level_string) // level_height\n",
        "level_array_rgb = np.array([tile_to_rgb.get(tile, tile_to_rgb[\"default\"]) for tile in level_string]).reshape(level_height, level_width, 3)\n",
        "\n",
        "# Create a figure showing the level\n",
        "plt.figure(figsize=(10, 6))  # Adjust the figure size as needed\n",
        "plt.imshow(level_array_rgb)\n",
        "plt.axis('off')  # Hide the axes\n",
        "plt.show()\n"
      ],
      "metadata": {
        "colab": {
          "base_uri": "https://localhost:8080/",
          "height": 499
        },
        "id": "C9sDl8HD1PAq",
        "outputId": "58965d53-52fb-4e12-f2e3-384dda890616"
      },
      "execution_count": null,
      "outputs": [
        {
          "output_type": "display_data",
          "data": {
            "text/plain": [
              "<Figure size 1000x600 with 1 Axes>"
            ],
            "image/png": "[encoded data removed]"
          },
          "metadata": {}
        }
      ]
    }
  ]
}